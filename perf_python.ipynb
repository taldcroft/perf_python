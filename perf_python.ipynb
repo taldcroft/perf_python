{
 "metadata": {
  "name": "perf_python"
 },
 "nbformat": 3,
 "worksheets": [
  {
   "cells": [
    {
     "cell_type": "markdown",
     "source": [
      "Wicked fast computation with Python",
      "=====================================",
      "",
      "- Python is a dynamic language with no built-in static typing.  ",
      "- Pure Python is generally slow for numeric computation.",
      "",
      "In this notebook I go through a series of techniques that are available",
      "for making numerical code fast within Python.  This is _heavily_ based on",
      "the examples found in [Performance Python](http://www.scipy.org/PerformancePython)",
      "and the [Speeding up Python][1] blog post by Travis Oliphant.",
      "",
      "[1]: http://technicaldiscovery.blogspot.com/2011/06/speeding-up-python-numpy-cython-and.html",
      "",
      "Before you make it faster",
      "--------------------------",
      "",
      "**Profiling!**",
      "",
      "Sometimes you'll be surprised where your code is spending time.",
      "",
      "Two places to start:",
      "",
      "- Standard library [profile](http://docs.python.org/2/library/profile.html) module: by function",
      "- [Line profiler](http://packages.python.org/line_profiler/): line-by-line",
      "",
      "Options not covered",
      "--------------------",
      "",
      "- Parallelization (e.g. [multiprocessing](http://docs.python.org/2/library/multiprocessing.html),",
      "  [IPython parallel processing](http://ipython.org/ipython-doc/dev/parallel/), MPI, etc etc.",
      "- [PyPy](pypy.org): alternate implementation of Python that uses ",
      "  [JIT](http://en.wikipedia.org/wiki/Just-in-time_compilation) compilation to achieve",
      "  high performance (geometric mean speedup of about 6 over CPython).",
      "  They are obsessed with [speed](http://speed.pypy.org/).",
      "",
      "The problem",
      "--------------",
      "",
      "Solve the 2D Laplace equation $\\nabla^2 u = 0$ with a specified boundary condition on $u$ using an iterative finite difference scheme (four point averaging, Gauss-Seidel or Gauss-Jordan). ",
      ""
     ]
    },
    {
     "cell_type": "code",
     "collapsed": false,
     "input": [
      "import numpy as np",
      "import matplotlib.pyplot as plt"
     ],
     "language": "python",
     "outputs": [],
     "prompt_number": 1
    },
    {
     "cell_type": "markdown",
     "source": [
      "### Pure Python solution"
     ]
    },
    {
     "cell_type": "code",
     "collapsed": true,
     "input": [
      "def py_update(u, dx2, dy2):",
      "    \"\"\"Take a time step using straight Python loops and update `u` in place.\"\"\"",
      "    nx, ny = u.shape        ",
      "    dnr_inv = 0.5 / (dx2 + dy2)",
      "",
      "    for i in range(1, nx - 1):",
      "        for j in range(1, ny - 1):",
      "            u[i, j] = ((u[i - 1, j] + u[i + 1, j]) * dy2 +",
      "                       (u[i, j - 1] + u[i, j + 1]) * dx2) * dnr_inv"
     ],
     "language": "python",
     "outputs": [],
     "prompt_number": 2
    },
    {
     "cell_type": "markdown",
     "source": [
      "### Simple function for testing speed"
     ]
    },
    {
     "cell_type": "code",
     "collapsed": true,
     "input": [
      "def calc(N=200, Niter=50, func=py_update, dx=0.1, dy=0.1):",
      "    dx2 = dx * dx",
      "    dy2 = dy * dy",
      "    u = np.zeros([N, N])",
      "    u[0] = 1",
      "    u[N - 1] = -1",
      "    for i in range(Niter):",
      "        func(u, dx2, dy2)",
      "    return u"
     ],
     "language": "python",
     "outputs": [],
     "prompt_number": 3
    },
    {
     "cell_type": "code",
     "collapsed": false,
     "input": [
      "u = calc(func=py_update, N=20)"
     ],
     "language": "python",
     "outputs": [],
     "prompt_number": 4
    },
    {
     "cell_type": "code",
     "collapsed": false,
     "input": [
      "plt.imshow(u)"
     ],
     "language": "python",
     "outputs": [
      {
       "output_type": "pyout",
       "prompt_number": 5,
       "text": [
        "<matplotlib.image.AxesImage at 0x1045d26d0>"
       ]
      },
      {
       "output_type": "display_data",
       "png": "[encoded data removed]"
      }
     ],
     "prompt_number": 5
    },
    {
     "cell_type": "markdown",
     "source": [
      "### Simple timing tests for pure Python",
      "",
      "This is slow ...  "
     ]
    },
    {
     "cell_type": "code",
     "collapsed": false,
     "input": [
      "%time x = calc(func=py_update, N=200)"
     ],
     "language": "python",
     "outputs": [
      {
       "output_type": "stream",
       "stream": "stdout",
       "text": [
        "CPU times: user 15.91 s, sys: 0.13 s, total: 16.04 s",
        "Wall time: 16.16 s"
       ]
      }
     ],
     "prompt_number": 21
    },
    {
     "cell_type": "markdown",
     "source": [
      "### Vectorize with NumPy",
      "",
      "[NumPy](http://numpy.scipy.org/) is the cornerstone of most numerical Python applications.  It provides:",
      "",
      "* A powerful N-dimensional array object",
      "* Sophisticated (broadcasting) functions for vectorized operations",
      "* Tools for integrating C/C++ and Fortran code",
      "* Useful linear algebra, Fourier transform, and random number capabilities",
      "",
      "A NumPy array is a Python object that stores a statically-typed data array and supports functional operations on the data in memory at the C-level.",
      "",
      "Operations that can be cleanly vectorized will be fast.  In this case there is a simple way to express the update step as a single vector expression."
     ]
    },
    {
     "cell_type": "code",
     "collapsed": true,
     "input": [
      "def np_update(u, dx2, dy2):",
      "    \"\"\"Takes a time step using a numpy expressions.\"\"\"",
      "    dnr_inv = 0.5/(dx2 + dy2)",
      "",
      "    u[1:-1, 1:-1] = ((u[0:-2, 1:-1] + u[2:, 1:-1]) * dy2 + ",
      "                     (u[1:-1,0:-2] + u[1:-1, 2:]) * dx2) * dnr_inv"
     ],
     "language": "python",
     "outputs": [],
     "prompt_number": 9
    },
    {
     "cell_type": "code",
     "collapsed": false,
     "input": [
      "%timeit calc(func=np_update, N=200)"
     ],
     "language": "python",
     "outputs": [
      {
       "output_type": "stream",
       "stream": "stdout",
       "text": [
        "10 loops, best of 3: 27.6 ms per loop"
       ]
      }
     ],
     "prompt_number": 10
    },
    {
     "cell_type": "markdown",
     "source": [
      "### Magic with weave",
      "",
      "[SciPy](http://scipy.org/) provides the [weave](http://www.scipy.org/Weave) module which let's you insert inline snippets of C code.  Importantly it provides two more things:",
      "",
      "- Wonderful and magical glue that transports NumPy arrays and Python values into the C-layer.  ",
      "- Macros that signicantly ease writing code that does array access.",
      "",
      "Inline code gets written out as a temporary C-file and compiled once at run time.  This get cached for future use."
     ]
    },
    {
     "cell_type": "code",
     "collapsed": true,
     "input": [
      "from scipy import weave",
      "from scipy.weave import converters",
      "def inline_update(u, dx2, dy2):        ",
      "    \"\"\"Takes a time step using inlined C code -- this version uses",
      "    blitz arrays.\"\"\"        ",
      "    nx, ny = u.shape",
      "    dnr_inv = 0.5 / (dx2 + dy2)",
      "",
      "    code = \"\"\"",
      "            for (int i=1; i<nx-1; ++i) {",
      "               for (int j=1; j<ny-1; ++j) {",
      "                   u(i,j) = ((u(i-1,j) + u(i+1,j))*dy2 +",
      "                             (u(i,j-1) + u(i,j+1))*dx2)*dnr_inv;",
      "               }",
      "           }",
      "           return_val = 0;",
      "           \"\"\"",
      "    err = weave.inline(code, ['u', 'dx2', 'dy2', 'dnr_inv', 'nx','ny'],",
      "                       type_converters = converters.blitz)"
     ],
     "language": "python",
     "outputs": [],
     "prompt_number": 13
    },
    {
     "cell_type": "markdown",
     "source": [
      "### Inline compilation"
     ]
    },
    {
     "cell_type": "code",
     "collapsed": false,
     "input": [
      "%time u = calc(func=inline_update, N=20)"
     ],
     "language": "python",
     "outputs": [
      {
       "output_type": "stream",
       "stream": "stdout",
       "text": [
        "CPU times: user 0.00 s, sys: 0.00 s, total: 0.00 s",
        "Wall time: 0.00 s"
       ]
      }
     ],
     "prompt_number": 17
    },
    {
     "cell_type": "code",
     "collapsed": false,
     "input": [
      "%time u = calc(func=inline_update, N=20)"
     ],
     "language": "python",
     "outputs": [
      {
       "output_type": "stream",
       "stream": "stdout",
       "text": [
        "CPU times: user 0.00 s, sys: 0.00 s, total: 0.00 s",
        "Wall time: 0.00 s"
       ]
      }
     ],
     "prompt_number": 16
    },
    {
     "cell_type": "markdown",
     "source": [
      "### Run for record"
     ]
    },
    {
     "cell_type": "code",
     "collapsed": false,
     "input": [
      "%timeit calc(func=inline_update, N=200)"
     ],
     "language": "python",
     "outputs": [
      {
       "output_type": "stream",
       "stream": "stdout",
       "text": [
        "100 loops, best of 3: 18 ms per loop"
       ]
      }
     ],
     "prompt_number": 12
    },
    {
     "cell_type": "markdown",
     "source": [
      "### Slicing and weaving",
      "",
      "Weave supports array slice syntax:"
     ]
    },
    {
     "cell_type": "code",
     "collapsed": true,
     "input": [
      "def blitz_update(u, dx2, dy2):        ",
      "    \"\"\"Takes a time step using a numpy expression that has been",
      "    blitzed using weave.\"\"\"        ",
      "    # The actual iteration",
      "    dnr_inv = 0.5/(dx2 + dy2)",
      "    expr = \"u[1:-1, 1:-1] = ((u[0:-2, 1:-1] + u[2:, 1:-1])*dy2 + \"\\",
      "           \"(u[1:-1,0:-2] + u[1:-1, 2:])*dx2)*dnr_inv\"",
      "    weave.blitz(expr, check_size=0)"
     ],
     "language": "python",
     "outputs": [],
     "prompt_number": 22
    },
    {
     "cell_type": "code",
     "collapsed": false,
     "input": [
      "%timeit calc(func=blitz_update, N=200)"
     ],
     "language": "python",
     "outputs": [
      {
       "output_type": "stream",
       "stream": "stdout",
       "text": [
        "100 loops, best of 3: 17.9 ms per loop"
       ]
      }
     ],
     "prompt_number": 23
    },
    {
     "cell_type": "markdown",
     "source": [
      "### Numexpr",
      "",
      "The [numexpr](http://code.google.com/p/numexpr/wiki/UsersGuide) package is also worth checking out.  It is similar to `weave` but with a focus on highly-optimized computation of a single expression.  Attention is paid to details of CPU caching and use of multiple cores where possible.  No separate C compilation step is required."
     ]
    },
    {
     "cell_type": "markdown",
     "source": [
      "### Cython",
      "",
      "[Cython](http://www.cython.org) gives you the combined power of Python and C to let you:",
      "",
      "- Write Python code that calls back and forth from and to C or C++ code natively at any point.",
      "- **Easily tune readable Python code into plain C performance by adding static type declarations.**",
      "- Use combined source code level debugging to find bugs in your Python, Cython and C code.",
      "- Interact efficiently with large data sets, e.g. using multi-dimensional NumPy arrays.",
      "- Quickly build your applications within the large, mature and widely used CPython ecosystem.",
      "- Integrate natively with existing code and data from legacy, low-level or high-performance libraries and applications."
     ]
    },
    {
     "cell_type": "markdown",
     "source": [
      "#### cy_laplace_slow.pyx"
     ]
    },
    {
     "cell_type": "plaintext",
     "source": [
      "cimport cython",
      "cimport numpy as np",
      "",
      "@cython.boundscheck(False)",
      "@cython.wraparound(False)",
      "def timestep(double[:, ::1] u, double dx2, double dy2):",
      "    cdef double mult = 0.5 / (dx2 + dy2)",
      "",
      "    for i in range(1, u.shape[0] - 1):",
      "        for j in range(1, u.shape[1] - 1):",
      "            u[i, j] = ((u[i+1, j] + u[i-1, j]) * dy2 + (u[i, j+1] + u[i, j-1]) * dx2) * mult",
      "",
      "    return None"
     ]
    },
    {
     "cell_type": "markdown",
     "source": [
      "#### Build setup.py:",
      "",
      "    from distutils.core import setup",
      "    from distutils.extension import Extension",
      "    from Cython.Distutils import build_ext",
      "",
      "    import numpy",
      "",
      "    ext = Extension(\"cy_laplace_slow\", [\"cy_laplace_slow.pyx\"],",
      "                     include_dirs = [numpy.get_include()])",
      "                    ",
      "    setup(ext_modules=[ext],",
      "          cmdclass = {'build_ext': build_ext})",
      "",
      "#### Build command",
      "",
      "    % python setup.py build_ext --inplace",
      "",
      "This creates the file `cy_laplace_slow.so` which is an *importable Python module*.  Once the build is complete then the module is installed and always available for import, unlike with `scipy.weave`.",
      "",
      "An important detail is that the first part of the build process is creating a C file `cy_laplace_slow.c`.  For packages that get distributed one normally includes the C file so that users only need a C compiler, not Cython, to build."
     ]
    },
    {
     "cell_type": "code",
     "collapsed": true,
     "input": [
      "import cy_laplace_slow",
      "def cython_update(u, dx2, dy2):",
      "    \"\"\"Takes a time step using a cython module that",
      "    implements the loop in Cython.\"\"\"",
      "    cy_laplace_slow.timestep(u, dx2, dy2)"
     ],
     "language": "python",
     "outputs": [],
     "prompt_number": 26
    },
    {
     "cell_type": "code",
     "collapsed": false,
     "input": [
      "%timeit calc(func=cython_update, N=200)"
     ],
     "language": "python",
     "outputs": [
      {
       "output_type": "stream",
       "stream": "stdout",
       "text": [
        "1 loops, best of 3: 400 ms per loop"
       ]
      }
     ],
     "prompt_number": 29
    },
    {
     "cell_type": "markdown",
     "source": [
      "#### Rats, not so fast, what happened?",
      "",
      "`cython --annotate` to the rescue!  This generates an HTML page that shows where the performance bottlenecks are occurring.  You really need to get all the yellow (pure Python) *out* of inner loops."
     ]
    },
    {
     "cell_type": "code",
     "collapsed": true,
     "input": [
      "import cy_laplace",
      "def cython_update(u, dx2, dy2):",
      "    \"\"\"Takes a time step using a cython module that",
      "    implements the loop in Cython.\"\"\"",
      "    cy_laplace.timestep(u, dx2, dy2)"
     ],
     "language": "python",
     "outputs": [],
     "prompt_number": 32
    },
    {
     "cell_type": "code",
     "collapsed": false,
     "input": [
      "%timeit calc(func=cython_update, N=200)"
     ],
     "language": "python",
     "outputs": [
      {
       "output_type": "stream",
       "stream": "stdout",
       "text": [
        "100 loops, best of 3: 17.7 ms per loop"
       ]
      }
     ],
     "prompt_number": 33
    },
    {
     "cell_type": "markdown",
     "source": [
      "### ctypes",
      "",
      "Yet another option for connecting Python to C code is the standard library [ctypes][1] module.  NumPy has a special [ndarray.ctypes][2] object that simplifies using `ctypes` with NumPy arrays.",
      "",
      "I use this interface for the [core integration routine][3] in the [Xija][4] thermal modeling code.  It was quite easy to set up and works reliably without any additional library dependencies.",
      "",
      "[1]: http://docs.python.org/2/library/ctypes.html",
      "[2]: http://docs.scipy.org/doc/numpy/reference/generated/numpy.ndarray.ctypes.html",
      "[3]: https://github.com/sot/xija/blob/master/xija/core.c",
      "[4]: http://cxc.cfa.harvard.edu/mta/ASPECT/tool_doc/xija/"
     ]
    },
    {
     "cell_type": "markdown",
     "source": [
      "### Fortran with f2py",
      "",
      "This is included within `scipy` and takes care of gluing Python / NumPy to Fortran codes.",
      "",
      "**Fortran is still the gold standard for speed!**",
      "",
      "https://github.com/certik/laplace_test",
      "",
      "https://github.com/scipy/speed/tree/master/laplace",
      "",
      "    Method        Time Rel. speed",
      "    ------------  ---- ----------",
      "    NumPy         2.03  1.00",
      "    Cython        1.25  0.61",
      "    Fortran loop  0.47  0.23",
      "    Fortran array 0.19  0.09",
      "",
      "#### Example code",
      "",
      "    subroutine for_update1(u, dx2, dy2, nx, ny)",
      "    real(8), intent(inout) :: u(nx,ny)",
      "    real(8), intent(in) :: dx2, dy2",
      "    integer, intent(in) :: nx, ny",
      "    integer :: i, j",
      "    do j = 2, ny-1",
      "        do i = 2, nx-1",
      "            u(i, j) = ((u(i+1, j) + u(i-1, j)) * dy2 + &",
      "                       (u(i, j+1) + u(i, j-1)) * dx2) / (2*(dx2+dy2))",
      "        end do",
      "    end do",
      "    end subroutine",
      "",
      "    subroutine for_update2(u, dx2, dy2, nx, ny)",
      "    real(8), intent(inout) :: u(nx,ny)",
      "    real(8), intent(in) :: dx2, dy2",
      "    integer, intent(in) :: nx, ny",
      "    u(2:nx-1,2:ny-1) = ((u(3:,2:ny-1)+u(:ny-2,2:ny-1))*dy2 + &",
      "            (u(2:nx-1,3:) + u(2:nx-1,:ny-2))*dx2) / (2*(dx2+dy2))",
      "    end subroutine",
      "",
      "`f2py` generally just works (on linux and my desktop iMac it was fine), *BUT* on my mac laptop I had problems.",
      "",
      "Takeaway: if you have legacy Fortran or absolutely need that last factor of 2-5 in speed then spend the time to make it work."
     ]
    },
    {
     "cell_type": "markdown",
     "source": [
      "### Numba",
      "",
      "[Numba](https://github.com/numba/numba) is aiming to be the next-generation tool for fast numerical Python.  It uses the",
      "remarkable [LLVM](http://llvm.org) compiler infrastructure to compile Python syntax to machine code."
     ]
    },
    {
     "cell_type": "markdown",
     "source": [
      "<iframe src=\"http://www.slideshare.net/slideshow/embed_code/13809448\" width=\"427\" height=\"356\" frameborder=\"0\" marginwidth=\"0\" marginheight=\"0\" scrolling=\"no\" style=\"border:1px solid #CCC;border-width:1px 1px 0;margin-bottom:5px\" allowfullscreen webkitallowfullscreen mozallowfullscreen> </iframe> <div style=\"margin-bottom:5px\"> <strong> <a href=\"http://www.slideshare.net/teoliphant/numba\" title=\"Numba\" target=\"_blank\">Numba</a> </strong> from <strong><a href=\"http://www.slideshare.net/teoliphant\" target=\"_blank\">Travis Oliphant</a></strong> </div>"
     ]
    },
    {
     "cell_type": "code",
     "collapsed": false,
     "input": [
      "# Add 3 lines of code (2 of which are boilerplate imports)",
      "# to convert pure Python to a compiled C-speed routine",
      "#",
      "from numba.decorators import jit",
      "from numba import float64",
      "",
      "@jit(argtypes=[float64[:,:], float64, float64])",
      "def numba_update(u, dx2, dy2):",
      "    \"\"\"Takes a time step using straight forward Python loops.\"\"\"",
      "    nx, ny = u.shape        ",
      "    dnr_inv = 0.5 / (dx2 + dy2)",
      "",
      "    for i in range(1, nx - 1):",
      "        for j in range(1, ny - 1):",
      "            u[i, j] = ((u[i - 1, j] + u[i + 1, j]) * dy2 +",
      "                       (u[i, j - 1] + u[i, j + 1]) * dx2) * dnr_inv"
     ],
     "language": "python",
     "outputs": [],
     "prompt_number": 35
    },
    {
     "cell_type": "code",
     "collapsed": false,
     "input": [
      "%timeit calc(func=numba_update, N=200)"
     ],
     "language": "python",
     "outputs": [
      {
       "output_type": "stream",
       "stream": "stdout",
       "text": [
        "100 loops, best of 3: 18.5 ms per loop"
       ]
      }
     ],
     "prompt_number": 36
    },
    {
     "cell_type": "markdown",
     "source": [
      "### Numba II",
      "",
      "Consider an example that really cannot be vectorized: Welford's method for calculating variance.  This is an iterative (or streaming) method that is [numerically more stable][1] than the traditional $s^2 = \\frac{1}{N-1}\\sum (x_i - \\overline x)^2$.",
      "",
      "I googled on \"welford numpy\" and found [this implementation][2] which is shown in the next cell.",
      "",
      "[1]: http://www.johndcook.com/blog/2008/09/26/comparing-three-methods-of-computing-standard-deviation/",
      "[2]: http://projects.scipy.org/numpy/attachment/ticket/1098/test_var.py"
     ]
    },
    {
     "cell_type": "code",
     "collapsed": false,
     "input": [
      "def welford(vals):",
      "    # welford's method (Welford 1962, see also Knuth, AOCP Vol. 2 page 232)",
      "    m = vals[0]",
      "    s = 0.0",
      "    for k in xrange(1, len(vals)):",
      "        oldm = m",
      "        x = vals[k]",
      "        newm = oldm + (x - oldm) / (k + 1)",
      "        s = s + (x - newm) * (x - oldm)",
      "        m = newm",
      "    return s / (k+1)"
     ],
     "language": "python",
     "outputs": [],
     "prompt_number": 40
    },
    {
     "cell_type": "code",
     "collapsed": false,
     "input": [
      "vals = np.random.uniform(size=1e6)",
      "%time var = welford(vals)"
     ],
     "language": "python",
     "outputs": [
      {
       "output_type": "stream",
       "stream": "stdout",
       "text": [
        "CPU times: user 5.44 s, sys: 0.07 s, total: 5.52 s",
        "Wall time: 5.49 s"
       ]
      }
     ],
     "prompt_number": 44
    },
    {
     "cell_type": "markdown",
     "source": [
      "**OK** now let's just go for it and numba-fy the Python `welford` function."
     ]
    },
    {
     "cell_type": "code",
     "collapsed": false,
     "input": [
      "numba_welford = jit(argtypes=[float64[:]], restype=float64)(welford)",
      "%timeit numba_welford(vals)"
     ],
     "language": "python",
     "outputs": [
      {
       "output_type": "stream",
       "stream": "stdout",
       "text": [
        "100 loops, best of 3: 12.4 ms per loop"
       ]
      }
     ],
     "prompt_number": 45
    },
    {
     "cell_type": "code",
     "collapsed": false,
     "input": [
      "%timeit np.var(vals)"
     ],
     "language": "python",
     "outputs": [
      {
       "output_type": "stream",
       "stream": "stdout",
       "text": [
        "10 loops, best of 3: 18.7 ms per loop"
       ]
      }
     ],
     "prompt_number": 46
    },
    {
     "cell_type": "markdown",
     "source": [
      "Summary",
      "--------",
      "",
      "Python provides a strong suite of options for doing computationally intensive numerical analysis.  In combination with batteries-included standard library and the full scientific stack (NumPy, SciPy, Matplotlib), this makes Python a great choice for many analysis tasks."
     ]
    }
   ]
  }
 ]
}